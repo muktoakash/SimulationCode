{
    "cells": [
        {
            "cell_type": "markdown",
            "metadata": {
                "collapsed": true
            },
            "source": "# Introduction to some Python stuff\n\nThe main purpose of this file is to follow the ideas in \"Introduction to R\" by Marius Hofert and present similar concepts that exist in python. Not everything can be translated in a one-to-one fashion as, unlike R, python is not inherently build for mathematical work. Some packages will need to be imported to make things work. It is assumed here that the user is familiar with basic use of python. If you are not familiar with python at all, then there are great free resources on python for beginners such as: [w3schools](https://www.w3schools.com/python/), or the [Open CS course](https://open.cs.uwaterloo.ca/python-from-scratch/) from the University of Waterloo."
        },
        {
            "cell_type": "markdown",
            "metadata": {},
            "source": "## Important Imports\n\nNaturally, some packages need to be imported. We will start with the basic packages such as numpy, pandas, matplotlib, and so on, and will only import packages as needed."
        },
        {
            "cell_type": "code",
            "execution_count": 1,
            "metadata": {},
            "outputs": [],
            "source": "import numpy as np # For dealing with vectors\nimport pandas as pd # For dealing with dataframes\n\n# For dealing with plots\nimport matplotlib as mpl\nimport matplotlib.pyplot as plt"
        },
        {
            "cell_type": "markdown",
            "metadata": {},
            "source": "## Simple Manipulations"
        },
        {
            "cell_type": "markdown",
            "metadata": {},
            "source": "### Numbers"
        },
        {
            "cell_type": "code",
            "execution_count": 2,
            "metadata": {},
            "outputs": [
                {
                    "data": {
                        "text/plain": "0.5"
                    },
                    "execution_count": 2,
                    "metadata": {},
                    "output_type": "execute_result"
                }
            ],
            "source": "1/2"
        },
        {
            "cell_type": "code",
            "execution_count": 3,
            "metadata": {},
            "outputs": [
                {
                    "ename": "ZeroDivisionError",
                    "evalue": "division by zero",
                    "output_type": "error",
                    "traceback": [
                        "\u001b[0;31m---------------------------------------------------------------------------\u001b[0m",
                        "\u001b[0;31mZeroDivisionError\u001b[0m                         Traceback (most recent call last)",
                        "\u001b[0;32m/tmp/wsuser/ipykernel_164/2354412189.py\u001b[0m in \u001b[0;36m<module>\u001b[0;34m\u001b[0m\n\u001b[0;32m----> 1\u001b[0;31m \u001b[0;36m1\u001b[0m\u001b[0;34m/\u001b[0m\u001b[0;36m0\u001b[0m\u001b[0;34m\u001b[0m\u001b[0;34m\u001b[0m\u001b[0m\n\u001b[0m",
                        "\u001b[0;31mZeroDivisionError\u001b[0m: division by zero"
                    ]
                }
            ],
            "source": "1/0"
        },
        {
            "cell_type": "markdown",
            "metadata": {},
            "source": "May be better to use np.divide, but it may be cumbersome to do this everytime. Recommend using np.divide if suspected division be zero."
        },
        {
            "cell_type": "code",
            "execution_count": 5,
            "metadata": {},
            "outputs": [
                {
                    "data": {
                        "text/plain": "0.5"
                    },
                    "execution_count": 5,
                    "metadata": {},
                    "output_type": "execute_result"
                }
            ],
            "source": "np.divide(1, 2)"
        },
        {
            "cell_type": "code",
            "execution_count": 6,
            "metadata": {},
            "outputs": [
                {
                    "name": "stderr",
                    "output_type": "stream",
                    "text": "/tmp/wsuser/ipykernel_164/3777320829.py:1: RuntimeWarning: divide by zero encountered in true_divide\n  np.divide(1, 0) # Notice the warning. Also, not the output\n"
                },
                {
                    "data": {
                        "text/plain": "inf"
                    },
                    "execution_count": 6,
                    "metadata": {},
                    "output_type": "execute_result"
                }
            ],
            "source": "np.divide(1, 0) # Notice the warning. Also, not the output"
        },
        {
            "cell_type": "code",
            "execution_count": 7,
            "metadata": {},
            "outputs": [
                {
                    "name": "stderr",
                    "output_type": "stream",
                    "text": "/tmp/wsuser/ipykernel_164/2177992516.py:1: RuntimeWarning: divide by zero encountered in true_divide\n  np.divide(-1, 0) # Note np.divide(1, -0) actually gives inf, and not -inf. This is unlike 1/-0 in R\n"
                },
                {
                    "data": {
                        "text/plain": "-inf"
                    },
                    "execution_count": 7,
                    "metadata": {},
                    "output_type": "execute_result"
                }
            ],
            "source": "np.divide(-1, 0) # Note np.divide(1, -0) actually gives inf, and not -inf. This is unlike 1/-0 in R"
        },
        {
            "cell_type": "code",
            "execution_count": 8,
            "metadata": {},
            "outputs": [
                {
                    "name": "stderr",
                    "output_type": "stream",
                    "text": "/tmp/wsuser/ipykernel_164/2105560962.py:1: RuntimeWarning: invalid value encountered in true_divide\n  np.divide(0, 0)\n"
                },
                {
                    "data": {
                        "text/plain": "nan"
                    },
                    "execution_count": 8,
                    "metadata": {},
                    "output_type": "execute_result"
                }
            ],
            "source": "np.divide(0, 0)"
        },
        {
            "cell_type": "code",
            "execution_count": 9,
            "metadata": {},
            "outputs": [
                {
                    "name": "stderr",
                    "output_type": "stream",
                    "text": "/tmp/wsuser/ipykernel_164/1695779124.py:1: RuntimeWarning: invalid value encountered in true_divide\n  x = np.divide(0, 0)\n"
                },
                {
                    "data": {
                        "text/plain": "numpy.float64"
                    },
                    "execution_count": 9,
                    "metadata": {},
                    "output_type": "execute_result"
                }
            ],
            "source": "x = np.divide(0, 0)\ntype(x) # Note the use of type(x) instead of class(x)\n\n## Relevant: https://www.quora.com/What-is-the-Python-equivalent-of-R-programmings-class-function"
        },
        {
            "cell_type": "code",
            "execution_count": 10,
            "metadata": {},
            "outputs": [
                {
                    "data": {
                        "text/plain": "float"
                    },
                    "execution_count": 10,
                    "metadata": {},
                    "output_type": "execute_result"
                }
            ],
            "source": "type(np.inf)"
        },
        {
            "cell_type": "code",
            "execution_count": 11,
            "metadata": {},
            "outputs": [
                {
                    "data": {
                        "text/plain": "inf"
                    },
                    "execution_count": 11,
                    "metadata": {},
                    "output_type": "execute_result"
                }
            ],
            "source": "np.inf"
        },
        {
            "cell_type": "markdown",
            "metadata": {},
            "source": "### Vectors (a.k.a numpy arrays)"
        },
        {
            "cell_type": "markdown",
            "metadata": {},
            "source": "There is no built-in vector type in python. If using the R-package \"reticulate\" to convert \"r_to_py\", then single element R-vectors are turned into floats, and multi-element R-vectors are turned into python lists, as seen in the following [blog](https://www.r-bloggers.com/2020/01/what-r-you-in-python-r-vectors/). Here, using np.arrays is recommended for their similarities in dealing with R-vectors."
        },
        {
            "cell_type": "code",
            "execution_count": 12,
            "metadata": {},
            "outputs": [
                {
                    "data": {
                        "text/plain": "numpy.ndarray"
                    },
                    "execution_count": 12,
                    "metadata": {},
                    "output_type": "execute_result"
                }
            ],
            "source": "x = np.array([1, 2, 3, 4, 5])\ntype(x) # Note that x is an ndarray"
        },
        {
            "cell_type": "code",
            "execution_count": 13,
            "metadata": {},
            "outputs": [
                {
                    "data": {
                        "text/plain": "5"
                    },
                    "execution_count": 13,
                    "metadata": {},
                    "output_type": "execute_result"
                }
            ],
            "source": "x.size # Not length(x)"
        },
        {
            "cell_type": "code",
            "execution_count": 14,
            "metadata": {},
            "outputs": [
                {
                    "data": {
                        "text/plain": "array([1, 2, 3, 4, 5])"
                    },
                    "execution_count": 14,
                    "metadata": {},
                    "output_type": "execute_result"
                }
            ],
            "source": "x"
        },
        {
            "cell_type": "code",
            "execution_count": 15,
            "metadata": {},
            "outputs": [
                {
                    "data": {
                        "text/plain": "array([1, 2, 3, 4, 5])"
                    },
                    "execution_count": 15,
                    "metadata": {},
                    "output_type": "execute_result"
                }
            ],
            "source": "# Other ways of creating similar arrays\ny = np.array(range(1, 6)) # Note that the last number is one more that what is needed\ny"
        },
        {
            "cell_type": "code",
            "execution_count": 16,
            "metadata": {},
            "outputs": [
                {
                    "data": {
                        "text/plain": "array([1, 2, 3, 4, 5])"
                    },
                    "execution_count": 16,
                    "metadata": {},
                    "output_type": "execute_result"
                }
            ],
            "source": "# Or better yet\nz = np.arange(1, 6)\nz"
        },
        {
            "cell_type": "code",
            "execution_count": 17,
            "metadata": {},
            "outputs": [
                {
                    "data": {
                        "text/plain": "1"
                    },
                    "execution_count": 17,
                    "metadata": {},
                    "output_type": "execute_result"
                }
            ],
            "source": "z[0] # Indexing starts at 0"
        },
        {
            "cell_type": "code",
            "execution_count": 18,
            "metadata": {},
            "outputs": [
                {
                    "ename": "IndexError",
                    "evalue": "index 5 is out of bounds for axis 0 with size 5",
                    "output_type": "error",
                    "traceback": [
                        "\u001b[0;31m---------------------------------------------------------------------------\u001b[0m",
                        "\u001b[0;31mIndexError\u001b[0m                                Traceback (most recent call last)",
                        "\u001b[0;32m/tmp/wsuser/ipykernel_164/2485796260.py\u001b[0m in \u001b[0;36m<module>\u001b[0;34m\u001b[0m\n\u001b[1;32m      1\u001b[0m \u001b[0;31m#This doesn't work\u001b[0m\u001b[0;34m\u001b[0m\u001b[0;34m\u001b[0m\u001b[0m\n\u001b[0;32m----> 2\u001b[0;31m \u001b[0mz\u001b[0m\u001b[0;34m[\u001b[0m\u001b[0;36m5\u001b[0m\u001b[0;34m]\u001b[0m \u001b[0;34m=\u001b[0m \u001b[0;36m6\u001b[0m\u001b[0;34m\u001b[0m\u001b[0;34m\u001b[0m\u001b[0m\n\u001b[0m",
                        "\u001b[0;31mIndexError\u001b[0m: index 5 is out of bounds for axis 0 with size 5"
                    ]
                }
            ],
            "source": "#This doesn't work\nz[5] = 6"
        },
        {
            "cell_type": "code",
            "execution_count": 20,
            "metadata": {},
            "outputs": [
                {
                    "data": {
                        "text/plain": "array([1, 2, 3, 4, 5, 6, 6])"
                    },
                    "execution_count": 20,
                    "metadata": {},
                    "output_type": "execute_result"
                }
            ],
            "source": "#use append instead\nz = np.append(z, 6) # Note that np.append is not Inplace\nz"
        },
        {
            "cell_type": "code",
            "execution_count": 21,
            "metadata": {},
            "outputs": [
                {
                    "data": {
                        "text/plain": "array([ True,  True,  True,  True,  True])"
                    },
                    "execution_count": 21,
                    "metadata": {},
                    "output_type": "execute_result"
                }
            ],
            "source": "x == y # Compares which elements of x match elements of y with same index, does not compare if x and y are the same"
        },
        {
            "cell_type": "code",
            "execution_count": 22,
            "metadata": {},
            "outputs": [
                {
                    "data": {
                        "text/plain": "array([ True,  True,  True,  True,  True])"
                    },
                    "execution_count": 22,
                    "metadata": {},
                    "output_type": "execute_result"
                }
            ],
            "source": "np.equal(x, y) # Does the same as above"
        },
        {
            "cell_type": "code",
            "execution_count": 23,
            "metadata": {},
            "outputs": [
                {
                    "data": {
                        "text/plain": "True"
                    },
                    "execution_count": 23,
                    "metadata": {},
                    "output_type": "execute_result"
                }
            ],
            "source": "# Check if x and y are the same ndarray\nnp.array_equal(x, y)"
        },
        {
            "cell_type": "markdown",
            "metadata": {},
            "source": "It is also possible to do the above using \"(x == y).all()\", but there are some issues with it as discussed [here](https://www.codingem.com/numpy-compare-arrays/)."
        },
        {
            "cell_type": "code",
            "execution_count": 24,
            "metadata": {},
            "outputs": [
                {
                    "data": {
                        "text/plain": "True"
                    },
                    "execution_count": 24,
                    "metadata": {},
                    "output_type": "execute_result"
                }
            ],
            "source": "(x == y).all()"
        },
        {
            "cell_type": "markdown",
            "metadata": {},
            "source": "### Watch out"
        },
        {
            "cell_type": "code",
            "execution_count": 25,
            "metadata": {},
            "outputs": [],
            "source": "x = np.var(np.arange(1,5))\ny = np.std(np.arange(1, 5))**2"
        },
        {
            "cell_type": "code",
            "execution_count": 26,
            "metadata": {},
            "outputs": [
                {
                    "data": {
                        "text/plain": "False"
                    },
                    "execution_count": 26,
                    "metadata": {},
                    "output_type": "execute_result"
                }
            ],
            "source": "x == y # Not the same"
        },
        {
            "cell_type": "code",
            "execution_count": 27,
            "metadata": {},
            "outputs": [
                {
                    "data": {
                        "text/plain": "-2.220446049250313e-16"
                    },
                    "execution_count": 27,
                    "metadata": {},
                    "output_type": "execute_result"
                }
            ],
            "source": "x - y # Numerically not zero"
        },
        {
            "cell_type": "code",
            "execution_count": 28,
            "metadata": {},
            "outputs": [
                {
                    "data": {
                        "text/plain": "1.25"
                    },
                    "execution_count": 28,
                    "metadata": {},
                    "output_type": "execute_result"
                }
            ],
            "source": "x"
        },
        {
            "cell_type": "code",
            "execution_count": 29,
            "metadata": {},
            "outputs": [
                {
                    "data": {
                        "text/plain": "1.2500000000000002"
                    },
                    "execution_count": 29,
                    "metadata": {},
                    "output_type": "execute_result"
                }
            ],
            "source": "y"
        },
        {
            "cell_type": "code",
            "execution_count": 30,
            "metadata": {},
            "outputs": [
                {
                    "data": {
                        "text/plain": "array([], dtype=int64)"
                    },
                    "execution_count": 30,
                    "metadata": {},
                    "output_type": "execute_result"
                }
            ],
            "source": "n = 0\nnp.arange(1, n) # empty array, some dissimilarities with R"
        },
        {
            "cell_type": "code",
            "execution_count": 31,
            "metadata": {},
            "outputs": [
                {
                    "data": {
                        "text/plain": "array([], dtype=int64)"
                    },
                    "execution_count": 31,
                    "metadata": {},
                    "output_type": "execute_result"
                }
            ],
            "source": "np.arange(2, n) # also empty array"
        },
        {
            "cell_type": "code",
            "execution_count": 32,
            "metadata": {},
            "outputs": [
                {
                    "data": {
                        "text/plain": "array([], dtype=int64)"
                    },
                    "execution_count": 32,
                    "metadata": {},
                    "output_type": "execute_result"
                }
            ],
            "source": "n = -1\nnp.arange(1, n) # also empty array"
        },
        {
            "cell_type": "code",
            "execution_count": 33,
            "metadata": {},
            "outputs": [
                {
                    "data": {
                        "text/plain": "array([1, 2, 3])"
                    },
                    "execution_count": 33,
                    "metadata": {},
                    "output_type": "execute_result"
                }
            ],
            "source": "# Couldn't find anything directly equivalent to R's seq_along, but here is a possible alternate\nnp.arange(1, np.array([3, 4, 2]).size + 1)"
        },
        {
            "cell_type": "markdown",
            "metadata": {},
            "source": "### Some functions"
        },
        {
            "cell_type": "code",
            "execution_count": 34,
            "metadata": {},
            "outputs": [],
            "source": "x = np.array([3, 4, 2])"
        },
        {
            "cell_type": "code",
            "execution_count": 35,
            "metadata": {},
            "outputs": [
                {
                    "data": {
                        "text/plain": "3"
                    },
                    "execution_count": 35,
                    "metadata": {},
                    "output_type": "execute_result"
                }
            ],
            "source": "x.size"
        },
        {
            "cell_type": "code",
            "execution_count": 36,
            "metadata": {},
            "outputs": [
                {
                    "data": {
                        "text/plain": "array([2, 4, 3])"
                    },
                    "execution_count": 36,
                    "metadata": {},
                    "output_type": "execute_result"
                }
            ],
            "source": "np.flip(x)"
        },
        {
            "cell_type": "code",
            "execution_count": 37,
            "metadata": {},
            "outputs": [
                {
                    "data": {
                        "text/plain": "array([2, 3, 4])"
                    },
                    "execution_count": 37,
                    "metadata": {},
                    "output_type": "execute_result"
                }
            ],
            "source": "np.sort(x)"
        },
        {
            "cell_type": "code",
            "execution_count": 38,
            "metadata": {},
            "outputs": [
                {
                    "data": {
                        "text/plain": "array([4, 3, 2])"
                    },
                    "execution_count": 38,
                    "metadata": {},
                    "output_type": "execute_result"
                }
            ],
            "source": "# there is no option or argument in both the sort() functions to change the sorting order to decreasing order.\n#So, to sort a numpy array in descending order we need to sort it and then use [::-1] to reverse the sorted array.\nnp.sort(x)[::-1]"
        },
        {
            "cell_type": "code",
            "execution_count": 39,
            "metadata": {},
            "outputs": [
                {
                    "data": {
                        "text/plain": "array([2, 0, 1])"
                    },
                    "execution_count": 39,
                    "metadata": {},
                    "output_type": "execute_result"
                }
            ],
            "source": "#Returns the indices that would sort an array.\nnp.argsort(x)"
        },
        {
            "cell_type": "code",
            "execution_count": 40,
            "metadata": {},
            "outputs": [
                {
                    "data": {
                        "text/plain": "array([2, 3, 4])"
                    },
                    "execution_count": 40,
                    "metadata": {},
                    "output_type": "execute_result"
                }
            ],
            "source": "x[np.argsort(x)] # Returns sort(x)"
        },
        {
            "cell_type": "code",
            "execution_count": 41,
            "metadata": {},
            "outputs": [
                {
                    "data": {
                        "text/plain": "array([1.09861229, 1.38629436, 0.69314718])"
                    },
                    "execution_count": 41,
                    "metadata": {},
                    "output_type": "execute_result"
                }
            ],
            "source": "np.log(x) # natural logarithms"
        },
        {
            "cell_type": "code",
            "execution_count": 42,
            "metadata": {},
            "outputs": [
                {
                    "data": {
                        "text/plain": "array([ 9, 16,  4])"
                    },
                    "execution_count": 42,
                    "metadata": {},
                    "output_type": "execute_result"
                }
            ],
            "source": "x**2 # component=wise squares"
        },
        {
            "cell_type": "code",
            "execution_count": 43,
            "metadata": {},
            "outputs": [
                {
                    "data": {
                        "text/plain": "9"
                    },
                    "execution_count": 43,
                    "metadata": {},
                    "output_type": "execute_result"
                }
            ],
            "source": "np.sum(x) # sum all numbers"
        },
        {
            "cell_type": "code",
            "execution_count": 44,
            "metadata": {},
            "outputs": [
                {
                    "data": {
                        "text/plain": "array([3, 7, 9])"
                    },
                    "execution_count": 44,
                    "metadata": {},
                    "output_type": "execute_result"
                }
            ],
            "source": "np.cumsum(x) # compute the cumulative sum"
        },
        {
            "cell_type": "code",
            "execution_count": 45,
            "metadata": {},
            "outputs": [
                {
                    "data": {
                        "text/plain": "24"
                    },
                    "execution_count": 45,
                    "metadata": {},
                    "output_type": "execute_result"
                }
            ],
            "source": "np.prod(x) # multiply all numbers"
        },
        {
            "cell_type": "code",
            "execution_count": 46,
            "metadata": {},
            "outputs": [
                {
                    "data": {
                        "text/plain": "array([1, 3, 5, 7])"
                    },
                    "execution_count": 46,
                    "metadata": {},
                    "output_type": "execute_result"
                }
            ],
            "source": "np.arange(1, 8, step = 2)"
        },
        {
            "cell_type": "code",
            "execution_count": 47,
            "metadata": {},
            "outputs": [
                {
                    "data": {
                        "text/plain": "array([1, 1, 1, 2, 2, 2, 3, 3, 3])"
                    },
                    "execution_count": 47,
                    "metadata": {},
                    "output_type": "execute_result"
                }
            ],
            "source": "np.repeat(np.arange(1,4), 3)"
        },
        {
            "cell_type": "code",
            "execution_count": 48,
            "metadata": {},
            "outputs": [
                {
                    "data": {
                        "text/plain": "array([1, 1, 1, 2, 2, 2, 3, 3, 3, 1, 1, 1, 2, 2, 2, 3, 3, 3])"
                    },
                    "execution_count": 48,
                    "metadata": {},
                    "output_type": "execute_result"
                }
            ],
            "source": "# To make it repeat a number of times, use np.tile\nnp.tile(np.repeat(np.arange(1,4), 3), 2)"
        },
        {
            "cell_type": "code",
            "execution_count": 49,
            "metadata": {},
            "outputs": [
                {
                    "data": {
                        "text/plain": "2"
                    },
                    "execution_count": 49,
                    "metadata": {},
                    "output_type": "execute_result"
                }
            ],
            "source": "x[-1] # to get the last element of a vector"
        },
        {
            "cell_type": "code",
            "execution_count": 50,
            "metadata": {},
            "outputs": [
                {
                    "data": {
                        "text/plain": "array([3, 4])"
                    },
                    "execution_count": 50,
                    "metadata": {},
                    "output_type": "execute_result"
                }
            ],
            "source": "x[:-1] # to get everything but the last element"
        },
        {
            "cell_type": "markdown",
            "metadata": {},
            "source": "### Logical Vectors"
        },
        {
            "cell_type": "code",
            "execution_count": 54,
            "metadata": {},
            "outputs": [
                {
                    "data": {
                        "text/plain": "array([], dtype=bool)"
                    },
                    "execution_count": 54,
                    "metadata": {},
                    "output_type": "execute_result"
                }
            ],
            "source": "np.full_like([], True, dtype= bool) # Empty logical vector, but don't read too much into this"
        },
        {
            "cell_type": "code",
            "execution_count": 61,
            "metadata": {},
            "outputs": [
                {
                    "data": {
                        "text/plain": "array([ True,  True, False])"
                    },
                    "execution_count": 61,
                    "metadata": {},
                    "output_type": "execute_result"
                }
            ],
            "source": "ii = x >= 3 # logical vector indicating whether each element of x is >= 3\nii"
        },
        {
            "cell_type": "code",
            "execution_count": 62,
            "metadata": {},
            "outputs": [
                {
                    "data": {
                        "text/plain": "array([3, 4])"
                    },
                    "execution_count": 62,
                    "metadata": {},
                    "output_type": "execute_result"
                }
            ],
            "source": "x[ii] # use that vector to index x => pick out all values of x >= 3"
        },
        {
            "cell_type": "code",
            "execution_count": 68,
            "metadata": {},
            "outputs": [
                {
                    "data": {
                        "text/plain": "array([False, False,  True])"
                    },
                    "execution_count": 68,
                    "metadata": {},
                    "output_type": "execute_result"
                }
            ],
            "source": "~ii # negate the logical vector"
        },
        {
            "cell_type": "code",
            "execution_count": 70,
            "metadata": {},
            "outputs": [
                {
                    "data": {
                        "text/plain": "False"
                    },
                    "execution_count": 70,
                    "metadata": {},
                    "output_type": "execute_result"
                }
            ],
            "source": "all(ii)  # check whether all indices are TRUE (whether all x >= 3)"
        },
        {
            "cell_type": "code",
            "execution_count": 71,
            "metadata": {},
            "outputs": [
                {
                    "data": {
                        "text/plain": "True"
                    },
                    "execution_count": 71,
                    "metadata": {},
                    "output_type": "execute_result"
                }
            ],
            "source": "any(ii) # check whether any indices are TRUE (whether any x >= 3)"
        },
        {
            "cell_type": "code",
            "execution_count": 74,
            "metadata": {},
            "outputs": [
                {
                    "data": {
                        "text/plain": "array([ True,  True,  True])"
                    },
                    "execution_count": 74,
                    "metadata": {},
                    "output_type": "execute_result"
                }
            ],
            "source": "ii | ~ii # vectorized logical OR (is, componentwise, any entry TRUE?)"
        },
        {
            "cell_type": "code",
            "execution_count": 83,
            "metadata": {},
            "outputs": [
                {
                    "data": {
                        "text/plain": "array([ True,  True,  True])"
                    },
                    "execution_count": 83,
                    "metadata": {},
                    "output_type": "execute_result"
                }
            ],
            "source": "np.logical_or(ii,  ~ii) # also gives the same result as above"
        },
        {
            "cell_type": "code",
            "execution_count": 75,
            "metadata": {},
            "outputs": [
                {
                    "data": {
                        "text/plain": "array([False, False, False])"
                    },
                    "execution_count": 75,
                    "metadata": {},
                    "output_type": "execute_result"
                }
            ],
            "source": "ii &  ~ii # vectorized logical AND (are, componentwise, both entries TRUE?)"
        },
        {
            "cell_type": "code",
            "execution_count": 84,
            "metadata": {},
            "outputs": [
                {
                    "data": {
                        "text/plain": "array([False, False, False])"
                    },
                    "execution_count": 84,
                    "metadata": {},
                    "output_type": "execute_result"
                }
            ],
            "source": "np.logical_and(ii, ~ii) # gives the same result as above"
        },
        {
            "cell_type": "code",
            "execution_count": 85,
            "metadata": {},
            "outputs": [
                {
                    "data": {
                        "text/plain": "True"
                    },
                    "execution_count": 85,
                    "metadata": {},
                    "output_type": "execute_result"
                }
            ],
            "source": "any(ii | ~ii) # logical OR applied to all values (is entry any TRUE?)"
        },
        {
            "cell_type": "code",
            "execution_count": 87,
            "metadata": {},
            "outputs": [
                {
                    "data": {
                        "text/plain": "False"
                    },
                    "execution_count": 87,
                    "metadata": {},
                    "output_type": "execute_result"
                }
            ],
            "source": "all(ii & ~ii) # logical AND applied to all values (are all entries TRUE?)"
        },
        {
            "cell_type": "code",
            "execution_count": 88,
            "metadata": {},
            "outputs": [
                {
                    "data": {
                        "text/plain": "array([3, 0])"
                    },
                    "execution_count": 88,
                    "metadata": {},
                    "output_type": "execute_result"
                }
            ],
            "source": "3 * np.array([True, False])  # TRUE is coerced to 1, FALSE to 0"
        },
        {
            "cell_type": "code",
            "execution_count": 89,
            "metadata": {},
            "outputs": [
                {
                    "data": {
                        "text/plain": "float"
                    },
                    "execution_count": 89,
                    "metadata": {},
                    "output_type": "execute_result"
                }
            ],
            "source": "type(np.nan) # Note that NaN is of type float in python"
        },
        {
            "cell_type": "markdown",
            "metadata": {},
            "source": "Sometimes None is also used for missing values, but in pandas, this converts to NaN, see [here](https://jakevdp.github.io/PythonDataScienceHandbook/03.04-missing-values.html)."
        },
        {
            "cell_type": "code",
            "execution_count": 90,
            "metadata": {},
            "outputs": [
                {
                    "data": {
                        "text/plain": "NoneType"
                    },
                    "execution_count": 90,
                    "metadata": {},
                    "output_type": "execute_result"
                }
            ],
            "source": "type(None) # This is it's own type of object"
        },
        {
            "cell_type": "code",
            "execution_count": 107,
            "metadata": {},
            "outputs": [
                {
                    "ename": "AttributeError",
                    "evalue": "module 'numpy' has no attribute 'NA'",
                    "output_type": "error",
                    "traceback": [
                        "\u001b[0;31m---------------------------------------------------------------------------\u001b[0m",
                        "\u001b[0;31mAttributeError\u001b[0m                            Traceback (most recent call last)",
                        "\u001b[0;32m/tmp/wsuser/ipykernel_164/1551764211.py\u001b[0m in \u001b[0;36m<module>\u001b[0;34m\u001b[0m\n\u001b[0;32m----> 1\u001b[0;31m \u001b[0mtype\u001b[0m\u001b[0;34m(\u001b[0m\u001b[0mnp\u001b[0m\u001b[0;34m.\u001b[0m\u001b[0mNA\u001b[0m\u001b[0;34m)\u001b[0m \u001b[0;31m# By itself, NaN is not a thing in python, use np.nan\u001b[0m\u001b[0;34m\u001b[0m\u001b[0;34m\u001b[0m\u001b[0m\n\u001b[0m",
                        "\u001b[0;32m/opt/conda/envs/Python-3.9/lib/python3.9/site-packages/numpy/__init__.py\u001b[0m in \u001b[0;36m__getattr__\u001b[0;34m(attr)\u001b[0m\n\u001b[1;32m    301\u001b[0m                 \u001b[0;32mreturn\u001b[0m \u001b[0mTester\u001b[0m\u001b[0;34m\u001b[0m\u001b[0;34m\u001b[0m\u001b[0m\n\u001b[1;32m    302\u001b[0m \u001b[0;34m\u001b[0m\u001b[0m\n\u001b[0;32m--> 303\u001b[0;31m             raise AttributeError(\"module {!r} has no attribute \"\n\u001b[0m\u001b[1;32m    304\u001b[0m                                  \"{!r}\".format(__name__, attr))\n\u001b[1;32m    305\u001b[0m \u001b[0;34m\u001b[0m\u001b[0m\n",
                        "\u001b[0;31mAttributeError\u001b[0m: module 'numpy' has no attribute 'NA'"
                    ]
                }
            ],
            "source": "type(np.NA) # By itself, NaN is not a thing in python, use np.nan"
        },
        {
            "cell_type": "code",
            "execution_count": 95,
            "metadata": {},
            "outputs": [
                {
                    "data": {
                        "text/plain": "array([1, 2, 3, 4])"
                    },
                    "execution_count": 95,
                    "metadata": {},
                    "output_type": "execute_result"
                }
            ],
            "source": "z = np.arange(1, 4); z= np.append(z, 4) # two statements in the same line\nz"
        },
        {
            "cell_type": "code",
            "execution_count": 103,
            "metadata": {},
            "outputs": [],
            "source": "z = np.array([1, 2, 3, None, 5]) # Use None or np.nan if an element is missing\nz[3] # No output as the value is None"
        },
        {
            "cell_type": "code",
            "execution_count": 104,
            "metadata": {},
            "outputs": [
                {
                    "data": {
                        "text/plain": "nan"
                    },
                    "execution_count": 104,
                    "metadata": {},
                    "output_type": "execute_result"
                }
            ],
            "source": "z = np.array([1, 2, 3, np.nan, 5])\nz[3] # outputs NaN, so this may be better"
        },
        {
            "cell_type": "markdown",
            "metadata": {},
            "source": "Some important distinctions between None and np.nan can be found [here](https://ealizadeh.com/blog/working-with-missing-values-in-pandas-and-numpy)."
        },
        {
            "cell_type": "code",
            "execution_count": 109,
            "metadata": {},
            "outputs": [
                {
                    "data": {
                        "text/plain": "array([ 1.,  2.,  3., nan,  5., nan, inf])"
                    },
                    "execution_count": 109,
                    "metadata": {},
                    "output_type": "execute_result"
                }
            ],
            "source": "z = np.append(z, [np.nan, np.inf]) # append NaN and Inf\nz"
        },
        {
            "cell_type": "code",
            "execution_count": 110,
            "metadata": {},
            "outputs": [
                {
                    "data": {
                        "text/plain": "numpy.ndarray"
                    },
                    "execution_count": 110,
                    "metadata": {},
                    "output_type": "execute_result"
                }
            ],
            "source": "type(z)"
        },
        {
            "cell_type": "code",
            "execution_count": 112,
            "metadata": {},
            "outputs": [
                {
                    "data": {
                        "text/plain": "array([False, False, False,  True, False,  True, False])"
                    },
                    "execution_count": 112,
                    "metadata": {},
                    "output_type": "execute_result"
                }
            ],
            "source": "np.isnan(z) # Does not work if an element of z is None"
        },
        {
            "cell_type": "code",
            "execution_count": 115,
            "metadata": {},
            "outputs": [
                {
                    "data": {
                        "text/plain": "array([False, False, False, False, False, False,  True])"
                    },
                    "execution_count": 115,
                    "metadata": {},
                    "output_type": "execute_result"
                }
            ],
            "source": "np.isinf(z) # check for +/-Inf"
        },
        {
            "cell_type": "code",
            "execution_count": 138,
            "metadata": {},
            "outputs": [
                {
                    "data": {
                        "text/plain": "array([2., 3., 5.])"
                    },
                    "execution_count": 138,
                    "metadata": {},
                    "output_type": "execute_result"
                }
            ],
            "source": "#pick out all finite numbers >= 2\nz[np.logical_and(z >= 2, ~np.isinf(z))]"
        },
        {
            "cell_type": "markdown",
            "metadata": {},
            "source": "### Character Vectors\n\nIt is recommended to mostly use python strings. There are a lot of in-built functions for strings as described [here](https://realpython.com/python-strings/)."
        },
        {
            "cell_type": "code",
            "execution_count": 140,
            "metadata": {},
            "outputs": [
                {
                    "data": {
                        "text/plain": "'appleorange'"
                    },
                    "execution_count": 140,
                    "metadata": {},
                    "output_type": "execute_result"
                }
            ],
            "source": "x = \"apple\"\ny = \"orange\"\nz = x + y # String concatenation\nz"
        },
        {
            "cell_type": "code",
            "execution_count": 142,
            "metadata": {},
            "outputs": [
                {
                    "data": {
                        "text/plain": "'apple orange'"
                    },
                    "execution_count": 142,
                    "metadata": {},
                    "output_type": "execute_result"
                }
            ],
            "source": "z = \" \".join([x, y]) # paste together with space\nz"
        },
        {
            "cell_type": "markdown",
            "metadata": {},
            "source": "More advanced features of \"paste\" from R can be coded as custom functions in python as shown [here](https://stackoverflow.com/questions/21292552/equivalent-of-paste-r-to-python)"
        },
        {
            "cell_type": "markdown",
            "metadata": {},
            "source": "### Named Arrays\n\nA variation on named arrays in python can be implemented using structured arrays in numpy as described [here](https://numpy.org/doc/stable/user/basics.rec.html). However, this is not the same as named arrays in R. It doesn't seem that numpy has a good way to assign names to each index, but this can be easily does using a pandas dataframe as shown below."
        },
        {
            "cell_type": "code",
            "execution_count": 170,
            "metadata": {},
            "outputs": [
                {
                    "data": {
                        "text/html": "<div>\n<style scoped>\n    .dataframe tbody tr th:only-of-type {\n        vertical-align: middle;\n    }\n\n    .dataframe tbody tr th {\n        vertical-align: top;\n    }\n\n    .dataframe thead th {\n        text-align: right;\n    }\n</style>\n<table border=\"1\" class=\"dataframe\">\n  <thead>\n    <tr style=\"text-align: right;\">\n      <th></th>\n      <th>a</th>\n      <th>b</th>\n    </tr>\n  </thead>\n  <tbody>\n    <tr>\n      <th>0</th>\n      <td>3</td>\n      <td>2</td>\n    </tr>\n  </tbody>\n</table>\n</div>",
                        "text/plain": "   a  b\n0  3  2"
                    },
                    "execution_count": 170,
                    "metadata": {},
                    "output_type": "execute_result"
                }
            ],
            "source": "x = pd.DataFrame({\"a\": [3], \"b\": [2]})\nx"
        },
        {
            "cell_type": "code",
            "execution_count": 177,
            "metadata": {},
            "outputs": [
                {
                    "data": {
                        "text/plain": "0    2\nName: b, dtype: int64"
                    },
                    "execution_count": 177,
                    "metadata": {},
                    "output_type": "execute_result"
                }
            ],
            "source": "x[\"b\"]"
        },
        {
            "cell_type": "code",
            "execution_count": 191,
            "metadata": {},
            "outputs": [
                {
                    "data": {
                        "text/plain": "2"
                    },
                    "execution_count": 191,
                    "metadata": {},
                    "output_type": "execute_result"
                }
            ],
            "source": "x._get_value(0, \"b\")"
        },
        {
            "cell_type": "code",
            "execution_count": null,
            "metadata": {},
            "outputs": [],
            "source": ""
        }
    ],
    "metadata": {
        "kernelspec": {
            "display_name": "Python 3.9",
            "language": "python",
            "name": "python3"
        },
        "language_info": {
            "codemirror_mode": {
                "name": "ipython",
                "version": 3
            },
            "file_extension": ".py",
            "mimetype": "text/x-python",
            "name": "python",
            "nbconvert_exporter": "python",
            "pygments_lexer": "ipython3",
            "version": "3.9.12"
        }
    },
    "nbformat": 4,
    "nbformat_minor": 1
}